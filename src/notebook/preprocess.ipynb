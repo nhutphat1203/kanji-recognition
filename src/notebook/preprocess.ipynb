{
 "cells": [
  {
   "cell_type": "code",
   "execution_count": 1,
   "id": "00ffcfed",
   "metadata": {},
   "outputs": [],
   "source": [
    "from PIL import Image\n",
    "import numpy as np\n",
    "import matplotlib.pyplot as plt\n",
    "import os"
   ]
  },
  {
   "cell_type": "code",
   "execution_count": 2,
   "id": "2a1e2b67",
   "metadata": {},
   "outputs": [
    {
     "name": "stdout",
     "output_type": "stream",
     "text": [
      "Số class: 881\n",
      "Class theo thứ tự alphabet: {'一': 0, '丁': 1, '七': 2, '万': 3, '三': 4, '上': 5, '下': 6, '不': 7, '世': 8, '両': 9, '中': 10, '主': 11, '久': 12, '乗': 13, '九': 14, '予': 15, '争': 16, '事': 17, '二': 18, '五': 19, '交': 20, '京': 21, '人': 22, '仁': 23, '今': 24, '仏': 25, '仕': 26, '他': 27, '付': 28, '代': 29, '令': 30, '以': 31, '仮': 32, '件': 33, '任': 34, '休': 35, '会': 36, '伝': 37, '似': 38, '位': 39, '低': 40, '住': 41, '体': 42, '何': 43, '余': 44, '作': 45, '使': 46, '例': 47, '供': 48, '依': 49, '価': 50, '便': 51, '係': 52, '俗': 53, '保': 54, '信': 55, '修': 56, '俵': 57, '倉': 58, '個': 59, '倍': 60, '候': 61, '借': 62, '停': 63, '健': 64, '側': 65, '備': 66, '働': 67, '像': 68, '億': 69, '元': 70, '兄': 71, '先': 72, '光': 73, '児': 74, '党': 75, '入': 76, '全': 77, '八': 78, '公': 79, '六': 80, '共': 81, '兵': 82, '具': 83, '典': 84, '兼': 85, '内': 86, '円': 87, '再': 88, '写': 89, '冬': 90, '冷': 91, '処': 92, '出': 93, '刀': 94, '分': 95, '切': 96, '刊': 97, '列': 98, '初': 99, '判': 100, '別': 101, '利': 102, '制': 103, '刷': 104, '券': 105, '則': 106, '前': 107, '創': 108, '力': 109, '功': 110, '加': 111, '助': 112, '努': 113, '労': 114, '効': 115, '勇': 116, '勉': 117, '動': 118, '務': 119, '勝': 120, '勢': 121, '勤': 122, '勧': 123, '包': 124, '化': 125, '北': 126, '区': 127, '医': 128, '十': 129, '千': 130, '午': 131, '半': 132, '卒': 133, '協': 134, '南': 135, '単': 136, '博': 137, '印': 138, '厚': 139, '原': 140, '厳': 141, '去': 142, '参': 143, '友': 144, '反': 145, '収': 146, '取': 147, '受': 148, '口': 149, '古': 150, '句': 151, '可': 152, '台': 153, '史': 154, '右': 155, '号': 156, '司': 157, '各': 158, '合': 159, '同': 160, '名': 161, '后': 162, '向': 163, '君': 164, '否': 165, '告': 166, '周': 167, '味': 168, '命': 169, '和': 170, '品': 171, '員': 172, '唱': 173, '商': 174, '問': 175, '善': 176, '喜': 177, '営': 178, '器': 179, '四': 180, '回': 181, '因': 182, '団': 183, '囲': 184, '図': 185, '固': 186, '国': 187, '園': 188, '土': 189, '圧': 190, '在': 191, '地': 192, '坂': 193, '均': 194, '型': 195, '基': 196, '堂': 197, '報': 198, '場': 199, '塩': 200, '境': 201, '墓': 202, '増': 203, '士': 204, '声': 205, '壱': 206, '売': 207, '変': 208, '夏': 209, '夕': 210, '外': 211, '多': 212, '夜': 213, '大': 214, '天': 215, '太': 216, '夫': 217, '央': 218, '失': 219, '奮': 220, '女': 221, '妹': 222, '妻': 223, '姉': 224, '始': 225, '委': 226, '婦': 227, '子': 228, '字': 229, '存': 230, '孝': 231, '季': 232, '学': 233, '孫': 234, '守': 235, '安': 236, '完': 237, '宗': 238, '官': 239, '定': 240, '実': 241, '客': 242, '宣': 243, '室': 244, '宮': 245, '害': 246, '家': 247, '容': 248, '宿': 249, '寄': 250, '富': 251, '寒': 252, '察': 253, '寺': 254, '対': 255, '専': 256, '尊': 257, '導': 258, '小': 259, '少': 260, '就': 261, '局': 262, '居': 263, '届': 264, '屋': 265, '展': 266, '属': 267, '山': 268, '岩': 269, '岸': 270, '島': 271, '川': 272, '州': 273, '工': 274, '左': 275, '差': 276, '己': 277, '市': 278, '布': 279, '希': 280, '師': 281, '席': 282, '帯': 283, '帰': 284, '帳': 285, '常': 286, '幅': 287, '平': 288, '年': 289, '幸': 290, '幹': 291, '広': 292, '序': 293, '底': 294, '店': 295, '府': 296, '度': 297, '庫': 298, '庭': 299, '康': 300, '延': 301, '建': 302, '弁': 303, '式': 304, '弐': 305, '引': 306, '弟': 307, '弱': 308, '張': 309, '強': 310, '当': 311, '形': 312, '役': 313, '往': 314, '待': 315, '律': 316, '後': 317, '徒': 318, '従': 319, '得': 320, '復': 321, '徳': 322, '心': 323, '必': 324, '志': 325, '応': 326, '忠': 327, '快': 328, '念': 329, '思': 330, '急': 331, '性': 332, '恩': 333, '息': 334, '悪': 335, '悲': 336, '情': 337, '想': 338, '意': 339, '愛': 340, '感': 341, '態': 342, '慣': 343, '憲': 344, '成': 345, '我': 346, '戦': 347, '戸': 348, '所': 349, '手': 350, '才': 351, '打': 352, '承': 353, '技': 354, '投': 355, '折': 356, '招': 357, '拝': 358, '拡': 359, '拾': 360, '持': 361, '指': 362, '挙': 363, '授': 364, '採': 365, '接': 366, '推': 367, '提': 368, '損': 369, '支': 370, '改': 371, '放': 372, '政': 373, '故': 374, '救': 375, '敗': 376, '教': 377, '散': 378, '敬': 379, '数': 380, '整': 381, '敵': 382, '文': 383, '料': 384, '断': 385, '新': 386, '方': 387, '旅': 388, '族': 389, '旗': 390, '日': 391, '旧': 392, '早': 393, '明': 394, '易': 395, '星': 396, '春': 397, '昨': 398, '昭': 399, '是': 400, '昼': 401, '時': 402, '景': 403, '晴': 404, '暑': 405, '暗': 406, '暴': 407, '曜': 408, '曲': 409, '書': 410, '最': 411, '月': 412, '有': 413, '服': 414, '望': 415, '朝': 416, '期': 417, '木': 418, '未': 419, '末': 420, '本': 421, '材': 422, '村': 423, '条': 424, '来': 425, '東': 426, '板': 427, '林': 428, '果': 429, '柱': 430, '査': 431, '栄': 432, '校': 433, '株': 434, '根': 435, '格': 436, '案': 437, '械': 438, '森': 439, '植': 440, '検': 441, '業': 442, '極': 443, '楽': 444, '構': 445, '様': 446, '標': 447, '権': 448, '横': 449, '橋': 450, '機': 451, '欠': 452, '次': 453, '欲': 454, '歌': 455, '歓': 456, '止': 457, '正': 458, '武': 459, '歩': 460, '歯': 461, '歴': 462, '死': 463, '残': 464, '殺': 465, '母': 466, '毎': 467, '毒': 468, '比': 469, '毛': 470, '氏': 471, '民': 472, '気': 473, '水': 474, '氷': 475, '永': 476, '求': 477, '池': 478, '決': 479, '汽': 480, '河': 481, '油': 482, '治': 483, '法': 484, '波': 485, '注': 486, '泳': 487, '洋': 488, '活': 489, '派': 490, '流': 491, '浅': 492, '浴': 493, '海': 494, '消': 495, '液': 496, '深': 497, '混': 498, '清': 499, '済': 500, '減': 501, '温': 502, '測': 503, '港': 504, '湖': 505, '湯': 506, '満': 507, '準': 508, '漁': 509, '演': 510, '漢': 511, '潔': 512, '火': 513, '災': 514, '炭': 515, '点': 516, '無': 517, '然': 518, '焼': 519, '照': 520, '熱': 521, '燃': 522, '燈': 523, '父': 524, '版': 525, '牛': 526, '牧': 527, '物': 528, '特': 529, '犬': 530, '犯': 531, '状': 532, '独': 533, '率': 534, '玉': 535, '王': 536, '現': 537, '球': 538, '理': 539, '生': 540, '産': 541, '用': 542, '田': 543, '由': 544, '申': 545, '男': 546, '町': 547, '画': 548, '界': 549, '畑': 550, '留': 551, '略': 552, '番': 553, '異': 554, '疑': 555, '病': 556, '発': 557, '登': 558, '白': 559, '百': 560, '的': 561, '皇': 562, '皮': 563, '益': 564, '盟': 565, '目': 566, '直': 567, '相': 568, '省': 569, '県': 570, '真': 571, '眼': 572, '着': 573, '知': 574, '短': 575, '石': 576, '研': 577, '破': 578, '確': 579, '示': 580, '礼': 581, '社': 582, '祖': 583, '祝': 584, '神': 585, '票': 586, '祭': 587, '禁': 588, '福': 589, '私': 590, '秋': 591, '科': 592, '秒': 593, '称': 594, '移': 595, '程': 596, '税': 597, '種': 598, '穀': 599, '積': 600, '究': 601, '空': 602, '立': 603, '章': 604, '童': 605, '競': 606, '竹': 607, '第': 608, '筆': 609, '等': 610, '答': 611, '策': 612, '算': 613, '管': 614, '節': 615, '築': 616, '米': 617, '粉': 618, '精': 619, '糸': 620, '系': 621, '紀': 622, '約': 623, '納': 624, '純': 625, '紙': 626, '級': 627, '素': 628, '細': 629, '終': 630, '組': 631, '経': 632, '結': 633, '給': 634, '統': 635, '絵': 636, '絶': 637, '絹': 638, '続': 639, '綿': 640, '総': 641, '緑': 642, '線': 643, '編': 644, '練': 645, '績': 646, '織': 647, '罪': 648, '置': 649, '美': 650, '群': 651, '義': 652, '習': 653, '老': 654, '考': 655, '者': 656, '耕': 657, '耳': 658, '聖': 659, '聞': 660, '職': 661, '肉': 662, '肥': 663, '育': 664, '胃': 665, '能': 666, '脈': 667, '腸': 668, '臣': 669, '臨': 670, '自': 671, '至': 672, '興': 673, '舌': 674, '舎': 675, '航': 676, '船': 677, '良': 678, '色': 679, '花': 680, '芸': 681, '芽': 682, '苦': 683, '英': 684, '茶': 685, '草': 686, '荷': 687, '菜': 688, '落': 689, '葉': 690, '著': 691, '蔵': 692, '薬': 693, '虫': 694, '蚕': 695, '血': 696, '衆': 697, '行': 698, '術': 699, '衛': 700, '表': 701, '補': 702, '製': 703, '複': 704, '西': 705, '要': 706, '見': 707, '規': 708, '視': 709, '覚': 710, '親': 711, '観': 712, '角': 713, '解': 714, '言': 715, '計': 716, '討': 717, '訓': 718, '記': 719, '設': 720, '許': 721, '訳': 722, '証': 723, '評': 724, '詞': 725, '試': 726, '詩': 727, '話': 728, '認': 729, '語': 730, '誠': 731, '誤': 732, '説': 733, '読': 734, '課': 735, '調': 736, '談': 737, '論': 738, '諸': 739, '講': 740, '謝': 741, '識': 742, '議': 743, '護': 744, '谷': 745, '豊': 746, '象': 747, '貝': 748, '負': 749, '財': 750, '貧': 751, '貨': 752, '責': 753, '貯': 754, '貴': 755, '買': 756, '貸': 757, '費': 758, '貿': 759, '賀': 760, '賃': 761, '資': 762, '賛': 763, '賞': 764, '質': 765, '赤': 766, '走': 767, '起': 768, '足': 769, '路': 770, '身': 771, '車': 772, '軍': 773, '転': 774, '軽': 775, '輪': 776, '輸': 777, '辞': 778, '農': 779, '辺': 780, '近': 781, '返': 782, '述': 783, '迷': 784, '追': 785, '退': 786, '送': 787, '逆': 788, '通': 789, '速': 790, '造': 791, '連': 792, '週': 793, '進': 794, '遊': 795, '運': 796, '過': 797, '道': 798, '達': 799, '遠': 800, '適': 801, '選': 802, '遺': 803, '郡': 804, '部': 805, '都': 806, '配': 807, '酒': 808, '酸': 809, '釈': 810, '里': 811, '重': 812, '野': 813, '量': 814, '金': 815, '鉄': 816, '鉱': 817, '銀': 818, '銅': 819, '銭': 820, '録': 821, '鏡': 822, '長': 823, '門': 824, '開': 825, '間': 826, '関': 827, '防': 828, '限': 829, '陛': 830, '院': 831, '除': 832, '陸': 833, '険': 834, '陽': 835, '隊': 836, '階': 837, '際': 838, '集': 839, '雑': 840, '難': 841, '雨': 842, '雪': 843, '雲': 844, '電': 845, '需': 846, '青': 847, '静': 848, '非': 849, '面': 850, '革': 851, '音': 852, '順': 853, '預': 854, '領': 855, '頭': 856, '題': 857, '額': 858, '顔': 859, '願': 860, '類': 861, '風': 862, '飛': 863, '食': 864, '飯': 865, '飲': 866, '養': 867, '館': 868, '首': 869, '馬': 870, '駅': 871, '験': 872, '高': 873, '魚': 874, '鳥': 875, '鳴': 876, '麦': 877, '黄': 878, '黒': 879, '鼻': 880}\n"
     ]
    }
   ],
   "source": [
    "FOLDER_CLASS = '../../../filtered_kanji'\n",
    "def get_classes_from_folder(folder_path):\n",
    "    \"\"\"\n",
    "    Lấy danh sách class trong folder và gán index theo alphabet\n",
    "    \"\"\"\n",
    "    # Lấy tất cả folder con (mỗi folder = 1 class)\n",
    "    class_names = [d for d in os.listdir(folder_path) if os.path.isdir(os.path.join(folder_path, d))]\n",
    "    \n",
    "    # Sắp xếp alphabet\n",
    "    class_names.sort()\n",
    "    \n",
    "    # Gán index\n",
    "    class_indices = {name: idx for idx, name in enumerate(class_names)}\n",
    "    \n",
    "    return class_indices\n",
    "\n",
    "class_indices = get_classes_from_folder(FOLDER_CLASS)\n",
    "print(\"Số class:\", len(class_indices))\n",
    "print(\"Class theo thứ tự alphabet:\", class_indices)"
   ]
  },
  {
   "cell_type": "code",
   "execution_count": null,
   "id": "79d9ace7",
   "metadata": {},
   "outputs": [],
   "source": [
    "\n",
    "IMG_SIZE = (128, 127)\n",
    "COLOR_MODE = 'grayscale'\n",
    "\n",
    "def preprocess_input_image(image_path):\n",
    "    \"\"\"\n",
    "    Nhận 1 đường dẫn ảnh PNG, trả về numpy array đã:\n",
    "    - resize về IMG_SIZE\n",
    "    - grayscale\n",
    "    - normalize về [0,1]\n",
    "    - thêm channel dimension để CNN nhận input shape (128,127,1)\n",
    "    \"\"\"\n",
    "    # 1. Load ảnh\n",
    "    img = Image.open(image_path)\n",
    "    \n",
    "    # 2. Chuyển grayscale\n",
    "    img = img.convert('L')\n",
    "    \n",
    "    # 3. Resize về IMG_SIZE (width, height)\n",
    "    img = img.resize((IMG_SIZE[1], IMG_SIZE[0]))  # (width, height)\n",
    "    \n",
    "    # 4. Chuyển về numpy array\n",
    "    img_array = np.array(img, dtype=np.float32)\n",
    "    \n",
    "    # 5. Normalize pixel về [0,1]\n",
    "    img_array /= 255.0\n",
    "    \n",
    "    # 6. Thêm channel dimension\n",
    "    if COLOR_MODE == 'grayscale':\n",
    "        img_array = np.expand_dims(img_array, axis=-1)  # shape (128,127,1)\n",
    "    \n",
    "    return img_array"
   ]
  },
  {
   "cell_type": "code",
   "execution_count": 43,
   "id": "2ca91b28",
   "metadata": {},
   "outputs": [
    {
     "data": {
      "image/png": "[encoded data removed]",
      "text/plain": [
       "<Figure size 640x480 with 1 Axes>"
      ]
     },
     "metadata": {},
     "output_type": "display_data"
    }
   ],
   "source": [
    "INPUT_PATH = '../../../test_一.png'\n",
    "image_array = preprocess_input_image(INPUT_PATH)\n",
    "input_data = np.expand_dims(image_array, axis=0)  # shape (1,128,127,1)\n",
    "\n",
    "plt.imshow(image_array.squeeze(), cmap='gray')  # _r = reverse\n",
    "plt.title(\"Preprocessed Image\")\n",
    "plt.axis('off')\n",
    "plt.show()\n"
   ]
  },
  {
   "cell_type": "code",
   "execution_count": 38,
   "id": "aaefb448",
   "metadata": {},
   "outputs": [],
   "source": [
    "from tensorflow.keras.models import load_model\n",
    "\n",
    "# Đường dẫn đến file .keras\n",
    "model_path = \"../../../model100_3.keras\"\n",
    "\n",
    "# Load model\n",
    "model = load_model(model_path)\n",
    "\n",
    "# Kiểm tra\n",
    "# model.summary()"
   ]
  },
  {
   "cell_type": "code",
   "execution_count": 44,
   "id": "d5a1d329",
   "metadata": {},
   "outputs": [
    {
     "name": "stdout",
     "output_type": "stream",
     "text": [
      "\u001b[1m1/1\u001b[0m \u001b[32m━━━━━━━━━━━━━━━━━━━━\u001b[0m\u001b[37m\u001b[0m \u001b[1m0s\u001b[0m 68ms/step\n",
      "Dự đoán class: 0\n",
      "Độ tin cậy: 1.0\n",
      "Class dự đoán: 一\n"
     ]
    }
   ],
   "source": [
    "# Predict\n",
    "preds = model.predict(input_data)\n",
    "\n",
    "# Nếu là phân loại đa lớp\n",
    "class_idx = np.argmax(preds, axis=1)[0]   # lấy index class dự đoán\n",
    "confidence = float(np.max(preds))        # độ tin cậy\n",
    "\n",
    "print(\"Dự đoán class:\", class_idx)\n",
    "print(\"Độ tin cậy:\", confidence)\n",
    "\n",
    "# Ánh xạ index -> class name\n",
    "idx_to_class = {v: k for k, v in class_indices.items()}  # đảo ngược dict\n",
    "\n",
    "print(\"Class dự đoán:\", idx_to_class[class_idx])"
   ]
  }
 ],
 "metadata": {
  "kernelspec": {
   "display_name": "venv",
   "language": "python",
   "name": "python3"
  },
  "language_info": {
   "codemirror_mode": {
    "name": "ipython",
    "version": 3
   },
   "file_extension": ".py",
   "mimetype": "text/x-python",
   "name": "python",
   "nbconvert_exporter": "python",
   "pygments_lexer": "ipython3",
   "version": "3.13.3"
  }
 },
 "nbformat": 4,
 "nbformat_minor": 5
}

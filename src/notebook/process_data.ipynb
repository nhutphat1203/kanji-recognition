{
 "cells": [
  {
   "cell_type": "code",
   "execution_count": 1,
   "id": "9606f372",
   "metadata": {},
   "outputs": [],
   "source": [
    "import sys\n",
    "import os\n",
    "from pathlib import Path\n",
    "sys.path.append(os.path.abspath(\"..\")) \n",
    "\n",
    "from obj.etl8g_extractor import ETL8GExtractor"
   ]
  },
  {
   "cell_type": "markdown",
   "id": "87fca8e6",
   "metadata": {},
   "source": [
    "# Extract data from binary file to image and label data"
   ]
  },
  {
   "cell_type": "code",
   "execution_count": 2,
   "id": "7b4d26cb",
   "metadata": {},
   "outputs": [
    {
     "name": "stdout",
     "output_type": "stream",
     "text": [
      "Current: d:\\Study\\team\\kanji_regc\\src\\notebook\n"
     ]
    }
   ],
   "source": [
    "cwd = os.getcwd()  # get current working directory\n",
    "print(\"Current:\", cwd)\n",
    "\n",
    "DATA_DIR = '../raw_data'\n",
    "OUTPUT_LABEL_IMG = '../images'"
   ]
  },
  {
   "cell_type": "code",
   "execution_count": 3,
   "id": "f1a4b8a3",
   "metadata": {},
   "outputs": [
    {
     "name": "stderr",
     "output_type": "stream",
     "text": [
      "Extracting ETL8G_01: 100%|██████████| 4680/4680 [00:20<00:00, 231.52rec/s]\n"
     ]
    },
    {
     "name": "stdout",
     "output_type": "stream",
     "text": [
      "Done! Extracted 4680 records from ETL8G_01\n"
     ]
    },
    {
     "name": "stderr",
     "output_type": "stream",
     "text": [
      "Extracting ETL8G_02: 100%|██████████| 4680/4680 [00:15<00:00, 303.15rec/s]\n"
     ]
    },
    {
     "name": "stdout",
     "output_type": "stream",
     "text": [
      "Done! Extracted 4680 records from ETL8G_02\n"
     ]
    },
    {
     "name": "stderr",
     "output_type": "stream",
     "text": [
      "Extracting ETL8G_03: 100%|██████████| 4680/4680 [00:17<00:00, 272.65rec/s]\n"
     ]
    },
    {
     "name": "stdout",
     "output_type": "stream",
     "text": [
      "Done! Extracted 4680 records from ETL8G_03\n"
     ]
    },
    {
     "name": "stderr",
     "output_type": "stream",
     "text": [
      "Extracting ETL8G_04: 100%|██████████| 4680/4680 [00:18<00:00, 247.18rec/s]\n"
     ]
    },
    {
     "name": "stdout",
     "output_type": "stream",
     "text": [
      "Done! Extracted 4680 records from ETL8G_04\n"
     ]
    },
    {
     "name": "stderr",
     "output_type": "stream",
     "text": [
      "Extracting ETL8G_05: 100%|██████████| 4680/4680 [00:17<00:00, 274.32rec/s]\n"
     ]
    },
    {
     "name": "stdout",
     "output_type": "stream",
     "text": [
      "Done! Extracted 4680 records from ETL8G_05\n"
     ]
    },
    {
     "name": "stderr",
     "output_type": "stream",
     "text": [
      "Extracting ETL8G_06: 100%|██████████| 4680/4680 [00:17<00:00, 274.80rec/s]\n"
     ]
    },
    {
     "name": "stdout",
     "output_type": "stream",
     "text": [
      "Done! Extracted 4680 records from ETL8G_06\n"
     ]
    },
    {
     "name": "stderr",
     "output_type": "stream",
     "text": [
      "Extracting ETL8G_07: 100%|██████████| 4680/4680 [00:31<00:00, 146.52rec/s]\n"
     ]
    },
    {
     "name": "stdout",
     "output_type": "stream",
     "text": [
      "Done! Extracted 4680 records from ETL8G_07\n"
     ]
    },
    {
     "name": "stderr",
     "output_type": "stream",
     "text": [
      "Extracting ETL8G_08: 100%|██████████| 4680/4680 [00:30<00:00, 154.54rec/s]\n"
     ]
    },
    {
     "name": "stdout",
     "output_type": "stream",
     "text": [
      "Done! Extracted 4680 records from ETL8G_08\n"
     ]
    },
    {
     "name": "stderr",
     "output_type": "stream",
     "text": [
      "Extracting ETL8G_09: 100%|██████████| 4680/4680 [00:29<00:00, 160.56rec/s]\n"
     ]
    },
    {
     "name": "stdout",
     "output_type": "stream",
     "text": [
      "Done! Extracted 4680 records from ETL8G_09\n"
     ]
    },
    {
     "name": "stderr",
     "output_type": "stream",
     "text": [
      "Extracting ETL8G_10: 100%|██████████| 4680/4680 [00:29<00:00, 156.23rec/s]\n"
     ]
    },
    {
     "name": "stdout",
     "output_type": "stream",
     "text": [
      "Done! Extracted 4680 records from ETL8G_10\n"
     ]
    },
    {
     "name": "stderr",
     "output_type": "stream",
     "text": [
      "Extracting ETL8G_11: 100%|██████████| 4680/4680 [00:29<00:00, 159.72rec/s]\n"
     ]
    },
    {
     "name": "stdout",
     "output_type": "stream",
     "text": [
      "Done! Extracted 4680 records from ETL8G_11\n"
     ]
    },
    {
     "name": "stderr",
     "output_type": "stream",
     "text": [
      "Extracting ETL8G_12: 100%|██████████| 4680/4680 [00:29<00:00, 158.99rec/s]\n"
     ]
    },
    {
     "name": "stdout",
     "output_type": "stream",
     "text": [
      "Done! Extracted 4680 records from ETL8G_12\n"
     ]
    },
    {
     "name": "stderr",
     "output_type": "stream",
     "text": [
      "Extracting ETL8G_13: 100%|██████████| 4680/4680 [00:28<00:00, 162.64rec/s]\n"
     ]
    },
    {
     "name": "stdout",
     "output_type": "stream",
     "text": [
      "Done! Extracted 4680 records from ETL8G_13\n"
     ]
    },
    {
     "name": "stderr",
     "output_type": "stream",
     "text": [
      "Extracting ETL8G_14: 100%|██████████| 4680/4680 [00:29<00:00, 156.52rec/s]\n"
     ]
    },
    {
     "name": "stdout",
     "output_type": "stream",
     "text": [
      "Done! Extracted 4680 records from ETL8G_14\n"
     ]
    },
    {
     "name": "stderr",
     "output_type": "stream",
     "text": [
      "Extracting ETL8G_15: 100%|██████████| 4680/4680 [00:14<00:00, 330.10rec/s]\n"
     ]
    },
    {
     "name": "stdout",
     "output_type": "stream",
     "text": [
      "Done! Extracted 4680 records from ETL8G_15\n"
     ]
    },
    {
     "name": "stderr",
     "output_type": "stream",
     "text": [
      "Extracting ETL8G_16: 100%|██████████| 4680/4680 [00:14<00:00, 317.80rec/s]\n"
     ]
    },
    {
     "name": "stdout",
     "output_type": "stream",
     "text": [
      "Done! Extracted 4680 records from ETL8G_16\n"
     ]
    },
    {
     "name": "stderr",
     "output_type": "stream",
     "text": [
      "Extracting ETL8G_17: 100%|██████████| 4680/4680 [00:15<00:00, 311.91rec/s]\n"
     ]
    },
    {
     "name": "stdout",
     "output_type": "stream",
     "text": [
      "Done! Extracted 4680 records from ETL8G_17\n"
     ]
    },
    {
     "name": "stderr",
     "output_type": "stream",
     "text": [
      "Extracting ETL8G_18: 100%|██████████| 4680/4680 [00:14<00:00, 333.97rec/s]\n"
     ]
    },
    {
     "name": "stdout",
     "output_type": "stream",
     "text": [
      "Done! Extracted 4680 records from ETL8G_18\n"
     ]
    },
    {
     "name": "stderr",
     "output_type": "stream",
     "text": [
      "Extracting ETL8G_19: 100%|██████████| 4680/4680 [00:14<00:00, 316.79rec/s]\n"
     ]
    },
    {
     "name": "stdout",
     "output_type": "stream",
     "text": [
      "Done! Extracted 4680 records from ETL8G_19\n"
     ]
    },
    {
     "name": "stderr",
     "output_type": "stream",
     "text": [
      "Extracting ETL8G_20: 100%|██████████| 4680/4680 [00:15<00:00, 309.86rec/s]\n"
     ]
    },
    {
     "name": "stdout",
     "output_type": "stream",
     "text": [
      "Done! Extracted 4680 records from ETL8G_20\n"
     ]
    },
    {
     "name": "stderr",
     "output_type": "stream",
     "text": [
      "Extracting ETL8G_21: 100%|██████████| 4680/4680 [00:13<00:00, 347.87rec/s]\n"
     ]
    },
    {
     "name": "stdout",
     "output_type": "stream",
     "text": [
      "Done! Extracted 4680 records from ETL8G_21\n"
     ]
    },
    {
     "name": "stderr",
     "output_type": "stream",
     "text": [
      "Extracting ETL8G_22: 100%|██████████| 4680/4680 [00:16<00:00, 291.44rec/s]\n"
     ]
    },
    {
     "name": "stdout",
     "output_type": "stream",
     "text": [
      "Done! Extracted 4680 records from ETL8G_22\n"
     ]
    },
    {
     "name": "stderr",
     "output_type": "stream",
     "text": [
      "Extracting ETL8G_23: 100%|██████████| 4680/4680 [00:14<00:00, 328.19rec/s]\n"
     ]
    },
    {
     "name": "stdout",
     "output_type": "stream",
     "text": [
      "Done! Extracted 4680 records from ETL8G_23\n"
     ]
    },
    {
     "name": "stderr",
     "output_type": "stream",
     "text": [
      "Extracting ETL8G_24: 100%|██████████| 4680/4680 [00:17<00:00, 271.33rec/s]\n"
     ]
    },
    {
     "name": "stdout",
     "output_type": "stream",
     "text": [
      "Done! Extracted 4680 records from ETL8G_24\n"
     ]
    },
    {
     "name": "stderr",
     "output_type": "stream",
     "text": [
      "Extracting ETL8G_25: 100%|██████████| 4680/4680 [00:15<00:00, 304.87rec/s]\n"
     ]
    },
    {
     "name": "stdout",
     "output_type": "stream",
     "text": [
      "Done! Extracted 4680 records from ETL8G_25\n"
     ]
    },
    {
     "name": "stderr",
     "output_type": "stream",
     "text": [
      "Extracting ETL8G_26: 100%|██████████| 4680/4680 [00:15<00:00, 299.81rec/s]\n"
     ]
    },
    {
     "name": "stdout",
     "output_type": "stream",
     "text": [
      "Done! Extracted 4680 records from ETL8G_26\n"
     ]
    },
    {
     "name": "stderr",
     "output_type": "stream",
     "text": [
      "Extracting ETL8G_27: 100%|██████████| 4680/4680 [00:20<00:00, 233.38rec/s]\n"
     ]
    },
    {
     "name": "stdout",
     "output_type": "stream",
     "text": [
      "Done! Extracted 4680 records from ETL8G_27\n"
     ]
    },
    {
     "name": "stderr",
     "output_type": "stream",
     "text": [
      "Extracting ETL8G_28: 100%|██████████| 4680/4680 [00:32<00:00, 141.95rec/s]\n"
     ]
    },
    {
     "name": "stdout",
     "output_type": "stream",
     "text": [
      "Done! Extracted 4680 records from ETL8G_28\n"
     ]
    },
    {
     "name": "stderr",
     "output_type": "stream",
     "text": [
      "Extracting ETL8G_29: 100%|██████████| 4680/4680 [00:34<00:00, 134.62rec/s]\n"
     ]
    },
    {
     "name": "stdout",
     "output_type": "stream",
     "text": [
      "Done! Extracted 4680 records from ETL8G_29\n"
     ]
    },
    {
     "name": "stderr",
     "output_type": "stream",
     "text": [
      "Extracting ETL8G_30: 100%|██████████| 4680/4680 [00:33<00:00, 140.11rec/s]\n"
     ]
    },
    {
     "name": "stdout",
     "output_type": "stream",
     "text": [
      "Done! Extracted 4680 records from ETL8G_30\n"
     ]
    },
    {
     "name": "stderr",
     "output_type": "stream",
     "text": [
      "Extracting ETL8G_31: 100%|██████████| 4680/4680 [00:27<00:00, 168.81rec/s]\n"
     ]
    },
    {
     "name": "stdout",
     "output_type": "stream",
     "text": [
      "Done! Extracted 4680 records from ETL8G_31\n"
     ]
    },
    {
     "name": "stderr",
     "output_type": "stream",
     "text": [
      "Extracting ETL8G_32: 100%|██████████| 4680/4680 [00:20<00:00, 231.88rec/s]\n"
     ]
    },
    {
     "name": "stdout",
     "output_type": "stream",
     "text": [
      "Done! Extracted 4680 records from ETL8G_32\n"
     ]
    },
    {
     "name": "stderr",
     "output_type": "stream",
     "text": [
      "Extracting ETL8G_33: 100%|██████████| 956/956 [00:08<00:00, 110.26rec/s]"
     ]
    },
    {
     "name": "stdout",
     "output_type": "stream",
     "text": [
      "Done! Extracted 956 records from ETL8G_33\n"
     ]
    },
    {
     "name": "stderr",
     "output_type": "stream",
     "text": [
      "\n"
     ]
    }
   ],
   "source": [
    "data_dir = Path(DATA_DIR)   # ETL8G_01, ETL8G_02, ...\n",
    "save_dir = Path(OUTPUT_LABEL_IMG)\n",
    "\n",
    "extractor = ETL8GExtractor(data_dir, save_dir)\n",
    "extractor.extract_all(n_records=4680) \n"
   ]
  }
 ],
 "metadata": {
  "kernelspec": {
   "display_name": "venv",
   "language": "python",
   "name": "python3"
  },
  "language_info": {
   "codemirror_mode": {
    "name": "ipython",
    "version": 3
   },
   "file_extension": ".py",
   "mimetype": "text/x-python",
   "name": "python",
   "nbconvert_exporter": "python",
   "pygments_lexer": "ipython3",
   "version": "3.13.3"
  }
 },
 "nbformat": 4,
 "nbformat_minor": 5
}

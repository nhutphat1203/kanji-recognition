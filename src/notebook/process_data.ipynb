{
 "cells": [
  {
   "cell_type": "code",
   "execution_count": 1,
   "id": "9606f372",
   "metadata": {},
   "outputs": [],
   "source": [
    "import sys\n",
    "import os\n",
    "from pathlib import Path\n",
    "sys.path.append(os.path.abspath(\"..\")) \n",
    "\n",
    "from obj.etl8_extractor import ETL8GExtractor"
   ]
  },
  {
   "cell_type": "markdown",
   "id": "87fca8e6",
   "metadata": {},
   "source": [
    "# Extract data from binary file to image and label data"
   ]
  },
  {
   "cell_type": "code",
   "execution_count": 2,
   "id": "7b4d26cb",
   "metadata": {},
   "outputs": [
    {
     "name": "stdout",
     "output_type": "stream",
     "text": [
      "Current: d:\\Study\\team\\kanji_regc\\src\\notebook\n"
     ]
    }
   ],
   "source": [
    "cwd = os.getcwd()  # get current working directory\n",
    "print(\"Current:\", cwd)\n",
    "\n",
    "DATA_DIR = '../raw_data'\n",
    "OUTPUT_LABEL_IMG = '../images'"
   ]
  },
  {
   "cell_type": "code",
   "execution_count": null,
   "id": "f1a4b8a3",
   "metadata": {},
   "outputs": [
    {
     "name": "stderr",
     "output_type": "stream",
     "text": [
      "Extracting ETL8G_01: 100%|██████████| 4780/4780 [00:08<00:00, 586.62rec/s]"
     ]
    },
    {
     "name": "stdout",
     "output_type": "stream",
     "text": [
      "Done! Extracted 4780 records from ETL8G_01\n"
     ]
    },
    {
     "name": "stderr",
     "output_type": "stream",
     "text": [
      "\n"
     ]
    }
   ],
   "source": [
    "data_dir = Path(DATA_DIR)   # ETL8G_01, ETL8G_02, ...\n",
    "save_dir = Path(OUTPUT_LABEL_IMG)\n",
    "\n",
    "extractor = ETL8GExtractor(data_dir, save_dir)\n",
    "extractor.extract_all(n_records=4780) \n"
   ]
  }
 ],
 "metadata": {
  "kernelspec": {
   "display_name": "venv",
   "language": "python",
   "name": "python3"
  },
  "language_info": {
   "codemirror_mode": {
    "name": "ipython",
    "version": 3
   },
   "file_extension": ".py",
   "mimetype": "text/x-python",
   "name": "python",
   "nbconvert_exporter": "python",
   "pygments_lexer": "ipython3",
   "version": "3.13.3"
  }
 },
 "nbformat": 4,
 "nbformat_minor": 5
}
